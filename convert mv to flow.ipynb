{
 "cells": [
  {
   "cell_type": "code",
   "execution_count": 1,
   "metadata": {},
   "outputs": [],
   "source": [
    "import json\n",
    "import cv2\n",
    "import numpy as np"
   ]
  },
  {
   "cell_type": "code",
   "execution_count": 23,
   "metadata": {},
   "outputs": [],
   "source": [
    "with open('.\\\\sample3\\\\1440.json') as json_file:\n",
    "    json_f = json.load(json_file)\n",
    "img = cv2.imread('.\\\\sample3\\\\frame1440.png',0)"
   ]
  },
  {
   "cell_type": "code",
   "execution_count": 24,
   "metadata": {},
   "outputs": [],
   "source": [
    "arr = np.zeros((img.shape[0],img.shape[1],2))"
   ]
  },
  {
   "cell_type": "code",
   "execution_count": 25,
   "metadata": {},
   "outputs": [
    {
     "data": {
      "text/plain": [
       "(720, 1280, 2)"
      ]
     },
     "execution_count": 25,
     "metadata": {},
     "output_type": "execute_result"
    }
   ],
   "source": [
    "arr.shape"
   ]
  },
  {
   "cell_type": "code",
   "execution_count": 26,
   "metadata": {},
   "outputs": [],
   "source": [
    "for dic in json_f:\n",
    "    width = int(dic[\"width\"] / 2)\n",
    "    height = int(dic[\"height\"] / 2)\n",
    "    x = dic['src_x']\n",
    "    y = dic['src_y']\n",
    "    arr[y-height:y+height,x-width:x+width,0] = dic[\"dx\"]\n",
    "    arr[y-height:y+height,x-width:x+width,1] = dic[\"dy\"]"
   ]
  },
  {
   "cell_type": "code",
   "execution_count": 49,
   "metadata": {},
   "outputs": [],
   "source": [
    "# Visualize optical flow\n",
    "# =======================\n",
    "# Code modified from:\n",
    "# https://github.com/tomrunia/OpticalFlow_Visualization/blob/master/flow_vis.py\n",
    "\n",
    "import numpy as np\n",
    "\n",
    "\n",
    "def make_colorwheel():\n",
    "    RY = 15\n",
    "    YG = 6\n",
    "    GC = 4\n",
    "    CB = 11\n",
    "    BM = 13\n",
    "    MR = 6\n",
    "\n",
    "    ncols = RY + YG + GC + CB + BM + MR\n",
    "    colorwheel = np.zeros((ncols, 3))\n",
    "    col = 0\n",
    "\n",
    "    # RY\n",
    "    colorwheel[0:RY, 0] = 255\n",
    "    colorwheel[0:RY, 1] = np.floor(255 * np.arange(0, RY) / RY)\n",
    "    col = col + RY\n",
    "    # YG\n",
    "    colorwheel[col:col + YG, 0] = 255 - np.floor(255 * np.arange(0, YG) / YG)\n",
    "    colorwheel[col:col + YG, 1] = 255\n",
    "    col = col + YG\n",
    "    # GC\n",
    "    colorwheel[col:col + GC, 1] = 255\n",
    "    colorwheel[col:col + GC, 2] = np.floor(255 * np.arange(0, GC) / GC)\n",
    "    col = col + GC\n",
    "    # CB\n",
    "    colorwheel[col:col + CB, 1] = 255 - np.floor(255 * np.arange(CB) / CB)\n",
    "    colorwheel[col:col + CB, 2] = 255\n",
    "    col = col + CB\n",
    "    # BM\n",
    "    colorwheel[col:col + BM, 2] = 255\n",
    "    colorwheel[col:col + BM, 0] = np.floor(255 * np.arange(0, BM) / BM)\n",
    "    col = col + BM\n",
    "    # MR\n",
    "    colorwheel[col:col + MR, 2] = 255 - np.floor(255 * np.arange(MR) / MR)\n",
    "    colorwheel[col:col + MR, 0] = 255\n",
    "    return colorwheel\n",
    "    #return np.flip(colorwheel,1)\n",
    "\n",
    "def flow_compute_color(flow_u, flow_v):\n",
    "    H, W = flow_u.shape[:2]\n",
    "    flow_image = np.zeros((H, W, 3), np.uint8)\n",
    "\n",
    "    colorwheel = make_colorwheel()  # shape [55x3]\n",
    "    ncols = colorwheel.shape[0]\n",
    "\n",
    "    rad = np.sqrt(np.square(flow_u) + np.square(flow_v))\n",
    "    a = np.arctan2(- flow_v, - flow_u) / np.pi\n",
    "\n",
    "    fk = (a + 1) / 2 * (ncols - 1) + 1\n",
    "    k0 = np.floor(fk).astype(np.int32)\n",
    "    k1 = k0 + 1\n",
    "    k1[k1 == ncols] = 1\n",
    "    f = fk - k0\n",
    "\n",
    "    for i in range(colorwheel.shape[1]):\n",
    "\n",
    "        tmp = colorwheel[:, i]\n",
    "        col0 = tmp[k0] / 255.0\n",
    "        col1 = tmp[k1] / 255.0\n",
    "        col = (1 - f) * col0 + f * col1\n",
    "\n",
    "        idx = (rad <= 1)\n",
    "        col[idx] = 1 - rad[idx] * (1 - col[idx])\n",
    "        col[~idx] = col[~idx] * 0.75   # out of range?\n",
    "\n",
    "        ch_idx = i\n",
    "        flow_image[:, :, ch_idx] = np.floor(255 * col)\n",
    "\n",
    "    return flow_image\n",
    "\n",
    "\n",
    "def flow2rgb(flow_uv):\n",
    "    \"\"\"Visualize optical flow.\n",
    "    Parameters\n",
    "    ----------\n",
    "    flow_uv: numpy.ndarray, (H, W, 2), float\n",
    "        Optical flow.\n",
    "    Returns\n",
    "    -------\n",
    "    dst: numpy.ndarray\n",
    "        RGB image.\n",
    "    \"\"\"\n",
    "    assert flow_uv.ndim == 3, 'flow must be 3 dimensional'\n",
    "    assert flow_uv.shape[2] == 2, 'flow must have shape (H, W, 2)'\n",
    "    assert np.issubdtype(flow_uv.dtype, np.floating), \\\n",
    "        'float must be float type'\n",
    "\n",
    "    flow_u = flow_uv[:, :, 0]\n",
    "    flow_v = flow_uv[:, :, 1]\n",
    "\n",
    "    rad = np.sqrt(np.square(flow_u) + np.square(flow_v))\n",
    "    rad_max = np.max(rad)\n",
    "\n",
    "    epsilon = 1e-5\n",
    "    flow_u = flow_u / (rad_max + epsilon)\n",
    "    flow_v = flow_v / (rad_max + epsilon)\n",
    "\n",
    "    return flow_compute_color(flow_u, flow_v)"
   ]
  },
  {
   "cell_type": "code",
   "execution_count": 28,
   "metadata": {},
   "outputs": [],
   "source": [
    "output = flow2rgb(arr)"
   ]
  },
  {
   "cell_type": "code",
   "execution_count": 29,
   "metadata": {},
   "outputs": [
    {
     "data": {
      "text/plain": [
       "True"
      ]
     },
     "execution_count": 29,
     "metadata": {},
     "output_type": "execute_result"
    }
   ],
   "source": [
    "cv2.imwrite('.\\\\sample3\\\\MV_v2.png',output) "
   ]
  },
  {
   "cell_type": "code",
   "execution_count": 30,
   "metadata": {},
   "outputs": [],
   "source": [
    "x = make_colorwheel().reshape((1,55,3))"
   ]
  },
  {
   "cell_type": "code",
   "execution_count": 31,
   "metadata": {},
   "outputs": [
    {
     "data": {
      "text/plain": [
       "True"
      ]
     },
     "execution_count": 31,
     "metadata": {},
     "output_type": "execute_result"
    }
   ],
   "source": [
    "cv2.imwrite('colorwheel.png',x) "
   ]
  },
  {
   "cell_type": "markdown",
   "metadata": {},
   "source": [
    "mmcv colorwheel"
   ]
  },
  {
   "cell_type": "code",
   "execution_count": 45,
   "metadata": {},
   "outputs": [],
   "source": [
    "def make_color_wheel(bins=None):\n",
    "    \"\"\"Build a color wheel.\n",
    "    Args:\n",
    "        bins(list or tuple, optional): Specify the number of bins for each\n",
    "            color range, corresponding to six ranges: red -> yellow,\n",
    "            yellow -> green, green -> cyan, cyan -> blue, blue -> magenta,\n",
    "            magenta -> red. [15, 6, 4, 11, 13, 6] is used for default\n",
    "            (see Middlebury).\n",
    "    Returns:\n",
    "        ndarray: Color wheel of shape (total_bins, 3).\n",
    "    \"\"\"\n",
    "    if bins is None:\n",
    "        bins = [15, 6, 4, 11, 13, 6]\n",
    "    assert len(bins) == 6\n",
    "\n",
    "    RY, YG, GC, CB, BM, MR = tuple(bins)\n",
    "\n",
    "    ry = [1, np.arange(RY) / RY, 0]\n",
    "    yg = [1 - np.arange(YG) / YG, 1, 0]\n",
    "    gc = [0, 1, np.arange(GC) / GC]\n",
    "    cb = [0, 1 - np.arange(CB) / CB, 1]\n",
    "    bm = [np.arange(BM) / BM, 0, 1]\n",
    "    mr = [1, 0, 1 - np.arange(MR) / MR]\n",
    "\n",
    "    num_bins = RY + YG + GC + CB + BM + MR\n",
    "\n",
    "    color_wheel = np.zeros((3, num_bins), dtype=np.float32)\n",
    "\n",
    "    col = 0\n",
    "    for i, color in enumerate([ry, yg, gc, cb, bm, mr]):\n",
    "        for j in range(3):\n",
    "            color_wheel[j, col:col + bins[i]] = color[j]\n",
    "        col += bins[i]\n",
    "\n",
    "    return color_wheel.T"
   ]
  },
  {
   "cell_type": "code",
   "execution_count": 51,
   "metadata": {},
   "outputs": [
    {
     "data": {
      "text/plain": [
       "array([[  0.,   0., 255.],\n",
       "       [  0.,  17., 255.],\n",
       "       [  0.,  34., 255.],\n",
       "       [  0.,  51., 255.],\n",
       "       [  0.,  68., 255.],\n",
       "       [  0.,  85., 255.],\n",
       "       [  0., 102., 255.],\n",
       "       [  0., 119., 255.],\n",
       "       [  0., 136., 255.],\n",
       "       [  0., 153., 255.],\n",
       "       [  0., 170., 255.],\n",
       "       [  0., 187., 255.],\n",
       "       [  0., 204., 255.],\n",
       "       [  0., 221., 255.],\n",
       "       [  0., 238., 255.],\n",
       "       [  0., 255., 255.],\n",
       "       [  0., 255., 213.],\n",
       "       [  0., 255., 170.],\n",
       "       [  0., 255., 128.],\n",
       "       [  0., 255.,  85.],\n",
       "       [  0., 255.,  43.],\n",
       "       [  0., 255.,   0.],\n",
       "       [ 63., 255.,   0.],\n",
       "       [127., 255.,   0.],\n",
       "       [191., 255.,   0.],\n",
       "       [255., 255.,   0.],\n",
       "       [255., 232.,   0.],\n",
       "       [255., 209.,   0.],\n",
       "       [255., 186.,   0.],\n",
       "       [255., 163.,   0.],\n",
       "       [255., 140.,   0.],\n",
       "       [255., 116.,   0.],\n",
       "       [255.,  93.,   0.],\n",
       "       [255.,  70.,   0.],\n",
       "       [255.,  47.,   0.],\n",
       "       [255.,  24.,   0.],\n",
       "       [255.,   0.,   0.],\n",
       "       [255.,   0.,  19.],\n",
       "       [255.,   0.,  39.],\n",
       "       [255.,   0.,  58.],\n",
       "       [255.,   0.,  78.],\n",
       "       [255.,   0.,  98.],\n",
       "       [255.,   0., 117.],\n",
       "       [255.,   0., 137.],\n",
       "       [255.,   0., 156.],\n",
       "       [255.,   0., 176.],\n",
       "       [255.,   0., 196.],\n",
       "       [255.,   0., 215.],\n",
       "       [255.,   0., 235.],\n",
       "       [255.,   0., 255.],\n",
       "       [213.,   0., 255.],\n",
       "       [170.,   0., 255.],\n",
       "       [128.,   0., 255.],\n",
       "       [ 85.,   0., 255.],\n",
       "       [ 43.,   0., 255.]])"
      ]
     },
     "execution_count": 51,
     "metadata": {},
     "output_type": "execute_result"
    }
   ],
   "source": [
    "np.flip(make_colorwheel(),1)"
   ]
  },
  {
   "cell_type": "code",
   "execution_count": 50,
   "metadata": {},
   "outputs": [
    {
     "data": {
      "text/plain": [
       "array([[255.,   0.,   0.],\n",
       "       [255.,  17.,   0.],\n",
       "       [255.,  34.,   0.],\n",
       "       [255.,  51.,   0.],\n",
       "       [255.,  68.,   0.],\n",
       "       [255.,  85.,   0.],\n",
       "       [255., 102.,   0.],\n",
       "       [255., 119.,   0.],\n",
       "       [255., 136.,   0.],\n",
       "       [255., 153.,   0.],\n",
       "       [255., 170.,   0.],\n",
       "       [255., 187.,   0.],\n",
       "       [255., 204.,   0.],\n",
       "       [255., 221.,   0.],\n",
       "       [255., 238.,   0.],\n",
       "       [255., 255.,   0.],\n",
       "       [213., 255.,   0.],\n",
       "       [170., 255.,   0.],\n",
       "       [128., 255.,   0.],\n",
       "       [ 85., 255.,   0.],\n",
       "       [ 43., 255.,   0.],\n",
       "       [  0., 255.,   0.],\n",
       "       [  0., 255.,  63.],\n",
       "       [  0., 255., 127.],\n",
       "       [  0., 255., 191.],\n",
       "       [  0., 255., 255.],\n",
       "       [  0., 232., 255.],\n",
       "       [  0., 209., 255.],\n",
       "       [  0., 186., 255.],\n",
       "       [  0., 163., 255.],\n",
       "       [  0., 140., 255.],\n",
       "       [  0., 116., 255.],\n",
       "       [  0.,  93., 255.],\n",
       "       [  0.,  70., 255.],\n",
       "       [  0.,  47., 255.],\n",
       "       [  0.,  24., 255.],\n",
       "       [  0.,   0., 255.],\n",
       "       [ 19.,   0., 255.],\n",
       "       [ 39.,   0., 255.],\n",
       "       [ 58.,   0., 255.],\n",
       "       [ 78.,   0., 255.],\n",
       "       [ 98.,   0., 255.],\n",
       "       [117.,   0., 255.],\n",
       "       [137.,   0., 255.],\n",
       "       [156.,   0., 255.],\n",
       "       [176.,   0., 255.],\n",
       "       [196.,   0., 255.],\n",
       "       [215.,   0., 255.],\n",
       "       [235.,   0., 255.],\n",
       "       [255.,   0., 255.],\n",
       "       [255.,   0., 213.],\n",
       "       [255.,   0., 170.],\n",
       "       [255.,   0., 128.],\n",
       "       [255.,   0.,  85.],\n",
       "       [255.,   0.,  43.]])"
      ]
     },
     "execution_count": 50,
     "metadata": {},
     "output_type": "execute_result"
    }
   ],
   "source": [
    "make_colorwheel()"
   ]
  },
  {
   "cell_type": "code",
   "execution_count": 47,
   "metadata": {},
   "outputs": [
    {
     "data": {
      "text/plain": [
       "array([[1.        , 0.        , 0.        ],\n",
       "       [1.        , 0.06666667, 0.        ],\n",
       "       [1.        , 0.13333334, 0.        ],\n",
       "       [1.        , 0.2       , 0.        ],\n",
       "       [1.        , 0.26666668, 0.        ],\n",
       "       [1.        , 0.33333334, 0.        ],\n",
       "       [1.        , 0.4       , 0.        ],\n",
       "       [1.        , 0.46666667, 0.        ],\n",
       "       [1.        , 0.53333336, 0.        ],\n",
       "       [1.        , 0.6       , 0.        ],\n",
       "       [1.        , 0.6666667 , 0.        ],\n",
       "       [1.        , 0.73333335, 0.        ],\n",
       "       [1.        , 0.8       , 0.        ],\n",
       "       [1.        , 0.8666667 , 0.        ],\n",
       "       [1.        , 0.93333334, 0.        ],\n",
       "       [1.        , 1.        , 0.        ],\n",
       "       [0.8333333 , 1.        , 0.        ],\n",
       "       [0.6666667 , 1.        , 0.        ],\n",
       "       [0.5       , 1.        , 0.        ],\n",
       "       [0.33333334, 1.        , 0.        ],\n",
       "       [0.16666667, 1.        , 0.        ],\n",
       "       [0.        , 1.        , 0.        ],\n",
       "       [0.        , 1.        , 0.25      ],\n",
       "       [0.        , 1.        , 0.5       ],\n",
       "       [0.        , 1.        , 0.75      ],\n",
       "       [0.        , 1.        , 1.        ],\n",
       "       [0.        , 0.90909094, 1.        ],\n",
       "       [0.        , 0.8181818 , 1.        ],\n",
       "       [0.        , 0.72727275, 1.        ],\n",
       "       [0.        , 0.6363636 , 1.        ],\n",
       "       [0.        , 0.54545456, 1.        ],\n",
       "       [0.        , 0.45454547, 1.        ],\n",
       "       [0.        , 0.36363637, 1.        ],\n",
       "       [0.        , 0.27272728, 1.        ],\n",
       "       [0.        , 0.18181819, 1.        ],\n",
       "       [0.        , 0.09090909, 1.        ],\n",
       "       [0.        , 0.        , 1.        ],\n",
       "       [0.07692308, 0.        , 1.        ],\n",
       "       [0.15384616, 0.        , 1.        ],\n",
       "       [0.23076923, 0.        , 1.        ],\n",
       "       [0.30769232, 0.        , 1.        ],\n",
       "       [0.3846154 , 0.        , 1.        ],\n",
       "       [0.46153846, 0.        , 1.        ],\n",
       "       [0.53846157, 0.        , 1.        ],\n",
       "       [0.61538464, 0.        , 1.        ],\n",
       "       [0.6923077 , 0.        , 1.        ],\n",
       "       [0.7692308 , 0.        , 1.        ],\n",
       "       [0.84615386, 0.        , 1.        ],\n",
       "       [0.9230769 , 0.        , 1.        ],\n",
       "       [1.        , 0.        , 1.        ],\n",
       "       [1.        , 0.        , 0.8333333 ],\n",
       "       [1.        , 0.        , 0.6666667 ],\n",
       "       [1.        , 0.        , 0.5       ],\n",
       "       [1.        , 0.        , 0.33333334],\n",
       "       [1.        , 0.        , 0.16666667]], dtype=float32)"
      ]
     },
     "execution_count": 47,
     "metadata": {},
     "output_type": "execute_result"
    }
   ],
   "source": [
    "make_color_wheel()"
   ]
  },
  {
   "cell_type": "code",
   "execution_count": 38,
   "metadata": {},
   "outputs": [
    {
     "data": {
      "text/plain": [
       "True"
      ]
     },
     "execution_count": 38,
     "metadata": {},
     "output_type": "execute_result"
    }
   ],
   "source": [
    "cv2.imwrite('colorwheel_mmcv.jpg',x) "
   ]
  },
  {
   "cell_type": "code",
   "execution_count": null,
   "metadata": {},
   "outputs": [],
   "source": []
  }
 ],
 "metadata": {
  "kernelspec": {
   "display_name": "Python 3",
   "language": "python",
   "name": "python3"
  },
  "language_info": {
   "codemirror_mode": {
    "name": "ipython",
    "version": 3
   },
   "file_extension": ".py",
   "mimetype": "text/x-python",
   "name": "python",
   "nbconvert_exporter": "python",
   "pygments_lexer": "ipython3",
   "version": "3.6.4"
  }
 },
 "nbformat": 4,
 "nbformat_minor": 2
}
